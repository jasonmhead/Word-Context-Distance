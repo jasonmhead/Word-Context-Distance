{
 "metadata": {
  "name": "",
  "signature": "sha256:6ba44729dceeb96006a4df9723a197ff5d2c5bc9bcad319ca2351b7402b0799a"
 },
 "nbformat": 3,
 "nbformat_minor": 0,
 "worksheets": [
  {
   "cells": [
    {
     "cell_type": "code",
     "collapsed": false,
     "input": [
      "import word_context_distance as wcd\n",
      "from word_context_distance import get_word_distances_per_sentence \n"
     ],
     "language": "python",
     "metadata": {},
     "outputs": [],
     "prompt_number": 12
    },
    {
     "cell_type": "code",
     "collapsed": false,
     "input": [
      "# get example data\n",
      "import urllib2\n",
      "url = \"http://www.gutenberg.org/files/2554/2554.txt\"\n",
      "response = urllib2.urlopen(url)\n",
      "raw = response.read().decode('utf8')"
     ],
     "language": "python",
     "metadata": {},
     "outputs": [],
     "prompt_number": 13
    },
    {
     "cell_type": "code",
     "collapsed": false,
     "input": [
      "dist_dict = get_word_distances_per_sentence(raw[:111175], \"sorrow\", \"sentence\")"
     ],
     "language": "python",
     "metadata": {},
     "outputs": [],
     "prompt_number": 14
    },
    {
     "cell_type": "code",
     "collapsed": false,
     "input": [
      "print \"dist_dict -> \" + str(dist_dict)\n",
      "print \"get_max_distance -> \" + str(get_max_distance(dist_dict, 0))\n",
      "print \"get_min_distance -> \" + str(get_min_distance(dist_dict, 0))\n",
      "print \"get_within_distance -> \" + str(get_within_distance(dist_dict, 5, 1, 0))\n",
      "\n",
      "print make_distance_tree(raw[:111175], \"sorrow\", 15)"
     ],
     "language": "python",
     "metadata": {},
     "outputs": [
      {
       "output_type": "stream",
       "stream": "stdout",
       "text": [
        "dist_dict -> {u'heart': [5], u'full': [2], u'trifles': [8], u'would': [18], u'perhaps': [24], u'allow': [16], u'could': [26, 2], u'dounia': [19], u'it;': [15], u'besides': [20], u'letter': [10], u'ruin': [23], u'fill': [13]}\n",
        "get_max_distance -> {u'could': 26}\n",
        "get_min_distance -> {u'could': 2}\n",
        "get_within_distance -> {u'could': [2]}\n",
        "{u'could': {u'nothing': [4, 1], u'real': [4], u'terror': [5], u'landlady': [1, 8]}, u'letter': {u'knowing': [7], u'byelinsky': [2], u'set': [12], u'conversations': [7], u'taking': [10], u'printing': [15], u'intention': [10], u'accused': [12], u'gogol': [4], u'censorship': [4], u'press': [16], u'part': [9], u'reading': [2, 2, 12, 2]}, u'trifles': {u'attempt': [10], u'like': [7], u'odd': [5], u'thought': [2], u'thing': [8], u'want': [12], u'smile': [6], u'frightened': [3]}}"
       ]
      },
      {
       "output_type": "stream",
       "stream": "stdout",
       "text": [
        "\n"
       ]
      }
     ],
     "prompt_number": 21
    },
    {
     "cell_type": "code",
     "collapsed": false,
     "input": [],
     "language": "python",
     "metadata": {},
     "outputs": [],
     "prompt_number": 33
    },
    {
     "cell_type": "code",
     "collapsed": false,
     "input": [],
     "language": "python",
     "metadata": {},
     "outputs": []
    }
   ],
   "metadata": {}
  }
 ]
}